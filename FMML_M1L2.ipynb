{
  "cells": [
    {
      "cell_type": "markdown",
      "metadata": {
        "id": "view-in-github",
        "colab_type": "text"
      },
      "source": [
        "<a href=\"https://colab.research.google.com/github/111aravind/FMML-LABS/blob/main/FMML_M1L2.ipynb\" target=\"_parent\"><img src=\"https://colab.research.google.com/assets/colab-badge.svg\" alt=\"Open In Colab\"/></a>"
      ]
    },
    {
      "cell_type": "markdown",
      "metadata": {
        "id": "3Eu9VZbF01eq"
      },
      "source": [
        "# Machine Learning terms and metrics\n",
        "\n",
        "FMML Module 1, Lab 2\n",
        "\n",
        "In this lab, we will show a part of the ML pipeline by using the California Housing dataset. There are 20640 samples, each with 8 attributes like income of the block, age of the houses per district etc. The task is to predict the cost of the houses per district. We will use the scikit-learn library to load the data and perform some basic data preprocessing and model training. We will also show how to evaluate the model using some common metrics, split the data into training and testing sets, and use cross-validation to get a better estimate of the model's performance."
      ]
    },
    {
      "cell_type": "code",
      "execution_count": 1,
      "metadata": {
        "id": "8qBvyEem0vLi"
      },
      "outputs": [],
      "source": [
        "import numpy as np\n",
        "from sklearn import datasets\n",
        "import matplotlib.pyplot as plt\n",
        "\n",
        "rng = np.random.default_rng(seed=42)"
      ]
    },
    {
      "cell_type": "code",
      "execution_count": 2,
      "metadata": {
        "colab": {
          "base_uri": "https://localhost:8080/"
        },
        "id": "8LpqjN991GGJ",
        "outputId": "b82cf748-c3cf-44c0-aa7e-9e523ce3f4f3"
      },
      "outputs": [
        {
          "output_type": "stream",
          "name": "stdout",
          "text": [
            ".. _california_housing_dataset:\n",
            "\n",
            "California Housing dataset\n",
            "--------------------------\n",
            "\n",
            "**Data Set Characteristics:**\n",
            "\n",
            ":Number of Instances: 20640\n",
            "\n",
            ":Number of Attributes: 8 numeric, predictive attributes and the target\n",
            "\n",
            ":Attribute Information:\n",
            "    - MedInc        median income in block group\n",
            "    - HouseAge      median house age in block group\n",
            "    - AveRooms      average number of rooms per household\n",
            "    - AveBedrms     average number of bedrooms per household\n",
            "    - Population    block group population\n",
            "    - AveOccup      average number of household members\n",
            "    - Latitude      block group latitude\n",
            "    - Longitude     block group longitude\n",
            "\n",
            ":Missing Attribute Values: None\n",
            "\n",
            "This dataset was obtained from the StatLib repository.\n",
            "https://www.dcc.fc.up.pt/~ltorgo/Regression/cal_housing.html\n",
            "\n",
            "The target variable is the median house value for California districts,\n",
            "expressed in hundreds of thousands of dollars ($100,000).\n",
            "\n",
            "This dataset was derived from the 1990 U.S. census, using one row per census\n",
            "block group. A block group is the smallest geographical unit for which the U.S.\n",
            "Census Bureau publishes sample data (a block group typically has a population\n",
            "of 600 to 3,000 people).\n",
            "\n",
            "A household is a group of people residing within a home. Since the average\n",
            "number of rooms and bedrooms in this dataset are provided per household, these\n",
            "columns may take surprisingly large values for block groups with few households\n",
            "and many empty houses, such as vacation resorts.\n",
            "\n",
            "It can be downloaded/loaded using the\n",
            ":func:`sklearn.datasets.fetch_california_housing` function.\n",
            "\n",
            ".. rubric:: References\n",
            "\n",
            "- Pace, R. Kelley and Ronald Barry, Sparse Spatial Autoregressions,\n",
            "  Statistics and Probability Letters, 33 (1997) 291-297\n",
            "\n"
          ]
        }
      ],
      "source": [
        "dataset = datasets.fetch_california_housing()\n",
        "# Dataset description\n",
        "print(dataset.DESCR)"
      ]
    },
    {
      "cell_type": "markdown",
      "metadata": {
        "id": "PCe1VNftevgE"
      },
      "source": [
        "Given below are the list of target values. These correspond to the house value derived considering all the 8 input features and are continuous values. We should use regression models to predict these values but we will start with a simple classification model for the sake of simplicity. We need to just round off the values to the nearest integer and use a classification model to predict the house value."
      ]
    },
    {
      "cell_type": "code",
      "execution_count": 3,
      "metadata": {
        "colab": {
          "base_uri": "https://localhost:8080/"
        },
        "id": "F8K0ggBOevgE",
        "outputId": "9000d75c-9cc3-4942-d20b-2be8c40b7e27"
      },
      "outputs": [
        {
          "output_type": "stream",
          "name": "stdout",
          "text": [
            "Orignal target values: [4.526 3.585 3.521 ... 0.923 0.847 0.894]\n",
            "Target values after conversion: [4 3 3 ... 0 0 0]\n",
            "Input variables shape: (20640, 8)\n",
            "Output variables shape: (20640,)\n"
          ]
        }
      ],
      "source": [
        "print(\"Orignal target values:\", dataset.target)\n",
        "\n",
        "dataset.target = dataset.target.astype(int)\n",
        "\n",
        "print(\"Target values after conversion:\", dataset.target)\n",
        "print(\"Input variables shape:\", dataset.data.shape)\n",
        "print(\"Output variables shape:\", dataset.target.shape)"
      ]
    },
    {
      "cell_type": "markdown",
      "metadata": {
        "id": "iNx4174W5xRg"
      },
      "source": [
        "The simplest model to use for classification is the K-Nearest Neighbors model. We will use this model to predict the house value with a K value of 1. We will also use the accuracy metric to evaluate the model."
      ]
    },
    {
      "cell_type": "code",
      "execution_count": 4,
      "metadata": {
        "id": "07zpydQj1hIQ"
      },
      "outputs": [],
      "source": [
        "def NN1(traindata, trainlabel, query):\n",
        "    \"\"\"\n",
        "    This function takes in the training data, training labels and a query point\n",
        "    and returns the predicted label for the query point using the nearest neighbour algorithm\n",
        "\n",
        "    traindata: numpy array of shape (n,d) where n is the number of samples and d is the number of features\n",
        "    trainlabel: numpy array of shape (n,) where n is the number of samples\n",
        "    query: numpy array of shape (d,) where d is the number of features\n",
        "\n",
        "    returns: the predicted label for the query point which is the label of the training data which is closest to the query point\n",
        "    \"\"\"\n",
        "    diff = (\n",
        "        traindata - query\n",
        "    )  # find the difference between features. Numpy automatically takes care of the size here\n",
        "    sq = diff * diff  # square the differences\n",
        "    dist = sq.sum(1)  # add up the squares\n",
        "    label = trainlabel[np.argmin(dist)]\n",
        "    return label\n",
        "\n",
        "\n",
        "def NN(traindata, trainlabel, testdata):\n",
        "    \"\"\"\n",
        "    This function takes in the training data, training labels and test data\n",
        "    and returns the predicted labels for the test data using the nearest neighbour algorithm\n",
        "\n",
        "    traindata: numpy array of shape (n,d) where n is the number of samples and d is the number of features\n",
        "    trainlabel: numpy array of shape (n,) where n is the number of samples\n",
        "    testdata: numpy array of shape (m,d) where m is the number of test samples and d is the number of features\n",
        "\n",
        "    returns: the predicted labels for the test data which is the label of the training data which is closest to each test point\n",
        "    \"\"\"\n",
        "    predlabel = np.array([NN1(traindata, trainlabel, i) for i in testdata])\n",
        "    return predlabel"
      ]
    },
    {
      "cell_type": "markdown",
      "metadata": {
        "id": "03JktkfIGaje"
      },
      "source": [
        "We will also define a 'random classifier', which randomly allots labels to each sample"
      ]
    },
    {
      "cell_type": "code",
      "execution_count": 5,
      "metadata": {
        "id": "fogWAtjyGhAH"
      },
      "outputs": [],
      "source": [
        "def RandomClassifier(traindata, trainlabel, testdata):\n",
        "    \"\"\"\n",
        "    This function takes in the training data, training labels and test data\n",
        "    and returns the predicted labels for the test data using the random classifier algorithm\n",
        "\n",
        "    In reality, we don't need these arguments but we are passing them to keep the function signature consistent with other classifiers\n",
        "\n",
        "    traindata: numpy array of shape (n,d) where n is the number of samples and d is the number of features\n",
        "    trainlabel: numpy array of shape (n,) where n is the number of samples\n",
        "    testdata: numpy array of shape (m,d) where m is the number of test samples and d is the number of features\n",
        "\n",
        "    returns: the predicted labels for the test data which is a random label from the training data\n",
        "    \"\"\"\n",
        "\n",
        "    classes = np.unique(trainlabel)\n",
        "    rints = rng.integers(low=0, high=len(classes), size=len(testdata))\n",
        "    predlabel = classes[rints]\n",
        "    return predlabel"
      ]
    },
    {
      "cell_type": "markdown",
      "metadata": {
        "id": "1Hjf1KHs7fU5"
      },
      "source": [
        "We need a metric to evaluate the performance of the model. Let us define a metric 'Accuracy' to see how good our learning algorithm is. Accuracy is the ratio of the number of correctly classified samples to the total number of samples. The higher the accuracy, the better the algorithm. We will use the accuracy metric to evaluate and compate the performance of the K-Nearest Neighbors model and the random classifier."
      ]
    },
    {
      "cell_type": "code",
      "execution_count": 6,
      "metadata": {
        "id": "ouuCqWU07bz-"
      },
      "outputs": [],
      "source": [
        "def Accuracy(gtlabel, predlabel):\n",
        "    \"\"\"\n",
        "    This function takes in the ground-truth labels and predicted labels\n",
        "    and returns the accuracy of the classifier\n",
        "\n",
        "    gtlabel: numpy array of shape (n,) where n is the number of samples\n",
        "    predlabel: numpy array of shape (n,) where n is the number of samples\n",
        "\n",
        "    returns: the accuracy of the classifier which is the number of correct predictions divided by the total number of predictions\n",
        "    \"\"\"\n",
        "    assert len(gtlabel) == len(\n",
        "        predlabel\n",
        "    ), \"Length of the ground-truth labels and predicted labels should be the same\"\n",
        "    correct = (\n",
        "        gtlabel == predlabel\n",
        "    ).sum()  # count the number of times the groundtruth label is equal to the predicted label.\n",
        "    return correct / len(gtlabel)"
      ]
    },
    {
      "cell_type": "markdown",
      "metadata": {
        "id": "4vJFwBFa9Klw"
      },
      "source": [
        "Let us make a function to split the dataset with the desired probability. We will use this function to split the dataset into training and testing sets. We will use the training set to train the model and the testing set to evaluate the model."
      ]
    },
    {
      "cell_type": "code",
      "execution_count": 7,
      "metadata": {
        "id": "Ko0VzpSM2Tdi"
      },
      "outputs": [],
      "source": [
        "def split(data, label, percent):\n",
        "    # generate a random number for each sample\n",
        "    rnd = rng.random(len(label))\n",
        "    split1 = rnd < percent\n",
        "    split2 = rnd >= percent\n",
        "\n",
        "    split1data = data[split1, :]\n",
        "    split1label = label[split1]\n",
        "    split2data = data[split2, :]\n",
        "    split2label = label[split2]\n",
        "    return split1data, split1label, split2data, split2label"
      ]
    },
    {
      "cell_type": "markdown",
      "metadata": {
        "id": "AcK3LEAJ_LGC"
      },
      "source": [
        "We will reserve 20% of our dataset as the test set. We will not change this portion throughout our experiments"
      ]
    },
    {
      "cell_type": "code",
      "execution_count": 8,
      "metadata": {
        "colab": {
          "base_uri": "https://localhost:8080/"
        },
        "id": "bBZkHBLJ1iU-",
        "outputId": "8d909275-df16-48a6-cf0f-ec03e2f0a24f"
      },
      "outputs": [
        {
          "output_type": "stream",
          "name": "stdout",
          "text": [
            "Number of test samples: 4144\n",
            "Number of train samples: 16496\n",
            "Percent of test data: 20.07751937984496 %\n"
          ]
        }
      ],
      "source": [
        "testdata, testlabel, alltraindata, alltrainlabel = split(\n",
        "    dataset.data, dataset.target, 20 / 100\n",
        ")\n",
        "print(\"Number of test samples:\", len(testlabel))\n",
        "print(\"Number of train samples:\", len(alltrainlabel))\n",
        "print(\"Percent of test data:\", len(testlabel) * 100 / len(dataset.target), \"%\")"
      ]
    },
    {
      "cell_type": "markdown",
      "metadata": {
        "id": "a6Ss0Z6IAGNV"
      },
      "source": [
        "## Experiments with splits\n",
        "\n",
        "Let us reserve some of our train data as a validation set"
      ]
    },
    {
      "cell_type": "code",
      "execution_count": 9,
      "metadata": {
        "id": "WFew2iry_7W7"
      },
      "outputs": [],
      "source": [
        "traindata, trainlabel, valdata, vallabel = split(\n",
        "    alltraindata, alltrainlabel, 75 / 100)"
      ]
    },
    {
      "cell_type": "markdown",
      "metadata": {
        "id": "60hiu4clFN1i"
      },
      "source": [
        "What is the accuracy of our classifiers on the train dataset?"
      ]
    },
    {
      "cell_type": "code",
      "execution_count": 10,
      "metadata": {
        "colab": {
          "base_uri": "https://localhost:8080/"
        },
        "id": "DBlZDTHUFTZx",
        "outputId": "da9700ed-d388-4f8d-9da5-08cc405a40bc"
      },
      "outputs": [
        {
          "output_type": "stream",
          "name": "stdout",
          "text": [
            "Training accuracy using nearest neighbour algorithm: 100.0 %\n",
            "Training accuracy using random classifier:  16.4375808538163 %\n"
          ]
        }
      ],
      "source": [
        "trainpred = NN(traindata, trainlabel, traindata)\n",
        "trainAccuracy = Accuracy(trainlabel, trainpred)\n",
        "print(\"Training accuracy using nearest neighbour algorithm:\", trainAccuracy*100, \"%\")\n",
        "\n",
        "trainpred = RandomClassifier(traindata, trainlabel, traindata)\n",
        "trainAccuracy = Accuracy(trainlabel, trainpred)\n",
        "print(\"Training accuracy using random classifier: \", trainAccuracy*100, \"%\")"
      ]
    },
    {
      "cell_type": "markdown",
      "metadata": {
        "id": "7h08-9gJDtSy"
      },
      "source": [
        "For nearest neighbour, the train accuracy is always 1. The accuracy of the random classifier is close to 1/(number of classes) which is 0.1666 in our case. This is because the random classifier randomly assigns a label to each sample and the probability of assigning the correct label is 1/(number of classes). Let us predict the labels for our validation set and get the accuracy. This accuracy is a good estimate of the accuracy of our model on unseen data."
      ]
    },
    {
      "cell_type": "code",
      "execution_count": 11,
      "metadata": {
        "colab": {
          "base_uri": "https://localhost:8080/"
        },
        "id": "4h7bXoW_2H3v",
        "outputId": "c3e0f735-1e94-4ef7-94f1-ac7070f9123f"
      },
      "outputs": [
        {
          "output_type": "stream",
          "name": "stdout",
          "text": [
            "Validation accuracy using nearest neighbour algorithm: 34.10852713178294 %\n",
            "Validation accuracy using random classifier: 16.884689922480618 %\n"
          ]
        }
      ],
      "source": [
        "valpred = NN(traindata, trainlabel, valdata)\n",
        "valAccuracy = Accuracy(vallabel, valpred)\n",
        "print(\"Validation accuracy using nearest neighbour algorithm:\", valAccuracy*100, \"%\")\n",
        "\n",
        "\n",
        "valpred = RandomClassifier(traindata, trainlabel, valdata)\n",
        "valAccuracy = Accuracy(vallabel, valpred)\n",
        "print(\"Validation accuracy using random classifier:\", valAccuracy*100, \"%\")"
      ]
    },
    {
      "cell_type": "markdown",
      "metadata": {
        "id": "py9bLguFEjfg"
      },
      "source": [
        "Validation accuracy of nearest neighbour is considerably less than its train accuracy while the validation accuracy of random classifier is the same. However, the validation accuracy of nearest neighbour is twice that of the random classifier. Now let us try another random split and check the validation accuracy. We will see that the validation accuracy changes with the split. This is because the validation set is small and the accuracy is highly dependent on the samples in the validation set. We can get a better estimate of the accuracy by using cross-validation."
      ]
    },
    {
      "cell_type": "code",
      "execution_count": 12,
      "metadata": {
        "colab": {
          "base_uri": "https://localhost:8080/"
        },
        "id": "ujm3cyYzEntE",
        "outputId": "9d1b1243-6002-494f-84d8-5dad200412d3"
      },
      "outputs": [
        {
          "output_type": "stream",
          "name": "stdout",
          "text": [
            "Validation accuracy using nearest neighbour algorithm: 34.048257372654156 %\n"
          ]
        }
      ],
      "source": [
        "traindata, trainlabel, valdata, vallabel = split(\n",
        "    alltraindata, alltrainlabel, 75 / 100)\n",
        "valpred = NN(traindata, trainlabel, valdata)\n",
        "valAccuracy = Accuracy(vallabel, valpred)\n",
        "print(\"Validation accuracy using nearest neighbour algorithm:\", valAccuracy*100, \"%\")"
      ]
    },
    {
      "cell_type": "markdown",
      "metadata": {
        "id": "oSOx7U83EKie"
      },
      "source": [
        "You can run the above cell multiple times to try with different random splits.\n",
        "We notice that the accuracy is different for each run, but close together.\n",
        "\n",
        "Now let us compare it with the accuracy we get on the test dataset."
      ]
    },
    {
      "cell_type": "code",
      "execution_count": 13,
      "metadata": {
        "colab": {
          "base_uri": "https://localhost:8080/"
        },
        "id": "PNEZ5ToYBEDW",
        "outputId": "e5a3f361-37a0-4dc9-f9fb-262085b9a589"
      },
      "outputs": [
        {
          "output_type": "stream",
          "name": "stdout",
          "text": [
            "Test accuracy: 34.91795366795367 %\n"
          ]
        }
      ],
      "source": [
        "testpred = NN(alltraindata, alltrainlabel, testdata)\n",
        "testAccuracy = Accuracy(testlabel, testpred)\n",
        "\n",
        "print(\"Test accuracy:\", testAccuracy*100, \"%\")"
      ]
    },
    {
      "cell_type": "markdown",
      "metadata": {
        "id": "w3dGD531K3gH"
      },
      "source": [
        "### Try it out for yourself and answer:\n",
        "1. How is the accuracy of the validation set affected if we increase the percentage of validation set? What happens when we reduce it?\n",
        "2. How does the size of the train and validation set affect how well we can predict the accuracy on the test set using the validation set?\n",
        "3. What do you think is a good percentage to reserve for the validation set so that thest two factors are balanced?\n",
        "\n",
        "Answer for both nearest neighbour and random classifier. You can note down the values for your experiments and plot a graph using  <a href=https://matplotlib.org/stable/gallery/lines_bars_and_markers/step_demo.html#sphx-glr-gallery-lines-bars-and-markers-step-demo-py>plt.plot<href>. Check also for extreme values for splits, like 99.9% or 0.1%"
      ]
    },
    {
      "cell_type": "markdown",
      "metadata": {
        "id": "M9zvdYY6evgI"
      },
      "source": [
        "> Exercise: Try to implement a 3 nearest neighbour classifier and compare the accuracy of the 1 nearest neighbour classifier and the 3 nearest neighbour classifier on the test dataset. You can use the KNeighborsClassifier class from the scikit-learn library to implement the K-Nearest Neighbors model. You can set the number of neighbors using the n_neighbors parameter. You can also use the accuracy_score function from the scikit-learn library to calculate the accuracy of the model."
      ]
    },
    {
      "cell_type": "markdown",
      "metadata": {
        "id": "PnYvkAZLQY7h"
      },
      "source": [
        "## Multiple Splits\n",
        "\n",
        "One way to get more accurate estimates for the test accuracy is by using <b>cross-validation</b>. Here, we will try a simple version, where we do multiple train/val splits and take the average of validation accuracies as the test accuracy estimation. Here is a function for doing this. Note that this function will take a long time to execute. You can reduce the number of splits to make it faster."
      ]
    },
    {
      "cell_type": "code",
      "execution_count": 14,
      "metadata": {
        "id": "E4nGCUQXBTzo"
      },
      "outputs": [],
      "source": [
        "def AverageAccuracy(alldata, alllabel, splitpercent, iterations, classifier=NN):\n",
        "    \"\"\"\n",
        "    This function takes in the data, labels, split percentage, number of iterations and classifier function\n",
        "    and returns the average accuracy of the classifier\n",
        "\n",
        "    alldata: numpy array of shape (n,d) where n is the number of samples and d is the number of features\n",
        "    alllabel: numpy array of shape (n,) where n is the number of samples\n",
        "    splitpercent: float which is the percentage of data to be used for training\n",
        "    iterations: int which is the number of iterations to run the classifier\n",
        "    classifier: function which is the classifier function to be used\n",
        "\n",
        "    returns: the average accuracy of the classifier\n",
        "    \"\"\"\n",
        "    accuracy = 0\n",
        "    for ii in range(iterations):\n",
        "        traindata, trainlabel, valdata, vallabel = split(\n",
        "            alldata, alllabel, splitpercent\n",
        "        )\n",
        "        valpred = classifier(traindata, trainlabel, valdata)\n",
        "        accuracy += Accuracy(vallabel, valpred)\n",
        "    return accuracy / iterations  # average of all accuracies"
      ]
    },
    {
      "cell_type": "code",
      "execution_count": 15,
      "metadata": {
        "colab": {
          "base_uri": "https://localhost:8080/"
        },
        "id": "H3qtNar7Bbik",
        "outputId": "155a7262-0c8d-46b9-c61f-010a815810cf"
      },
      "outputs": [
        {
          "output_type": "stream",
          "name": "stdout",
          "text": [
            "Average validation accuracy: 33.58463539517022 %\n",
            "Test accuracy: 34.91795366795367 %\n"
          ]
        }
      ],
      "source": [
        "avg_acc = AverageAccuracy(alltraindata, alltrainlabel, 75 / 100, 10, classifier=NN)\n",
        "print(\"Average validation accuracy:\", avg_acc*100, \"%\")\n",
        "testpred = NN(alltraindata, alltrainlabel, testdata)\n",
        "\n",
        "print(\"Test accuracy:\", Accuracy(testlabel, testpred)*100, \"%\")"
      ]
    },
    {
      "cell_type": "markdown",
      "metadata": {
        "id": "33GIn4x5VH-d"
      },
      "source": [
        "This is a very simple way of doing cross-validation. There are many well-known algorithms for cross-validation, like k-fold cross-validation, leave-one-out etc. This will be covered in detail in a later module. For more information about cross-validation, check <a href=https://en.wikipedia.org/wiki/Cross-validation_(statistics)>Cross-validatioin (Wikipedia)</a>\n",
        "\n",
        "### Questions\n",
        "1. Does averaging the validation accuracy across multiple splits give more consistent results?\n",
        "2. Does it give more accurate estimate of test accuracy?\n",
        "3. What is the effect of the number of iterations on the estimate? Do we get a better estimate with higher iterations?\n",
        "4. Consider the results you got for the previous questions. Can we deal with a very small train dataset or validation dataset by increasing the iterations?\n"
      ]
    },
    {
      "cell_type": "markdown",
      "source": [
        "1)Yes, averaging validation accuracy across multiple splits can provide more consistent results. This approach is known as:\n",
        "\n",
        "*K-Fold Cross-Validation*\n",
        "\n",
        "By averaging validation accuracy across multiple splits, you:\n",
        "\n",
        "1. Reduce variability: Single splits may yield fluctuating results.\n",
        "2. Improve generalizability: Averaging across splits helps capture model performance across different data subsets.\n",
        "3. Increase reliability: More comprehensive evaluation reduces dependence on individual split results.\n",
        "\n",
        "*Benefits:*\n",
        "\n",
        "1. Better estimate of true model performance\n",
        "2. Reduced overfitting risk\n",
        "3. Increased confidence in model selection\n",
        "4. Improved hyperparameter tuning\n",
        "\n",
        "*Common K-Fold Cross-Validation Strategies:*\n",
        "\n",
        "1. K-Fold (e.g., 5-Fold, 10-Fold)\n",
        "2. Stratified K-Fold (preserves class balance)\n",
        "3. Repeated K-Fold (averages multiple iterations)\n",
        "\n",
        "*Example Code (Python):*\n",
        "\n",
        "Using scikit-learn's Iris dataset and 5-Fold Cross-Validation:\n",
        "```\n",
        "from sklearn.datasets import load_iris\n",
        "from sklearn.model_selection import KFold\n",
        "from sklearn.ensemble import RandomForestClassifier\n",
        "from sklearn.metrics import accuracy_score\n",
        "\n",
        "# Load iris dataset\n",
        "iris = load_iris()\n",
        "X = iris.data\n",
        "y = iris.target\n",
        "\n",
        "# Initialize KFold object\n",
        "kf = KFold(n_splits=5, shuffle=True, random_state=42)\n",
        "\n",
        "# Initialize accuracy list\n",
        "accuracies = []\n",
        "\n",
        "# Perform K-Fold Cross-Validation\n",
        "for train_index, val_index in kf.split(X):\n",
        "    X_train, X_val = X[train_index], X[val_index]\n",
        "    y_train, y_val = y[train_index], y[val_index]\n",
        "\n",
        "    # Train model on current fold\n",
        "    rf = RandomForestClassifier(n_estimators=100)\n",
        "    rf.fit(X_train, y_train)\n",
        "\n",
        "    # Predict on validation set\n",
        "    y_pred = rf.predict(X_val)\n",
        "\n",
        "    # Calculate accuracy\n",
        "    accuracy = accuracy_score(y_val, y_pred)\n",
        "    accuracies.append(accuracy)\n",
        "\n",
        "# Average accuracy across folds\n",
        "avg_accuracy = sum(accuracies) / len(accuracies)\n",
        "print(f\"Average Accuracy: {avg_accuracy:.3f}\")\n",
        "```\n",
        "\n",
        "*Best Practices:*\n",
        "\n",
        "1. Choose suitable K value (e.g., 5-10)\n",
        "2. Use Stratified K-Fold for imbalanced datasets\n",
        "3. Repeat K-Fold for increased robustness\n",
        "4. Monitor standard deviation of accuracy across folds\n",
        "\n",
        "By using K-Fold Cross-Validation, you'll obtain a more reliable estimate of your model's performance.\n",
        "\n",
        "Would you like more information on cross-validation techniques or hyperparameter tuning?"
      ],
      "metadata": {
        "id": "D5nWvCbbPCGR"
      }
    },
    {
      "cell_type": "markdown",
      "source": [
        "2)K-Fold Cross-Validation provides a more accurate estimate of test accuracy compared to a single train-test split. Here's why:\n",
        "\n",
        "\n",
        "_Advantages:_\n",
        "\n",
        "1. Reduced variability: Averaging across multiple folds reduces the impact of random split variations.\n",
        "2. Better representation: K-Fold uses the entire dataset, ensuring each sample is used for both training and validation.\n",
        "3. Improved generalizability: Model performance is evaluated on multiple, diverse subsets.\n",
        "\n",
        "_K-Fold Cross-Validation vs. Single Train-Test Split:_\n",
        "\n",
        "|  | Single Train-Test Split | K-Fold Cross-Validation |\n",
        "| --- | --- | --- |\n",
        "| Variability | High | Low |\n",
        "| Representation | Limited | Comprehensive |\n",
        "| Generalizability | Poor | Good |\n",
        "| Accuracy Estimate | Biased | Unbiased |\n",
        "\n",
        "_Studies have shown that K-Fold Cross-Validation:_\n",
        "\n",
        "1. Reduces overfitting risk (Bengio & Grandvalet, 2004)\n",
        "2. Improves model selection (Kohavi, 1995)\n",
        "3. Provides more accurate performance estimates (Dietterich, 1998)\n",
        "\n",
        "_Optimal K Value:_\n",
        "\n",
        "The choice of K depends on:\n",
        "\n",
        "\n",
        "1. Dataset size: Larger K for smaller datasets.\n",
        "2. Computational resources: Smaller K for larger datasets.\n",
        "3. Desired precision: Larger K for more precise estimates.\n",
        "\n",
        "\n",
        "Common K values:\n",
        "\n",
        "\n",
        "- 5-Fold (balanced between variability and computational cost)\n",
        "- 10-Fold (more precise, but computationally expensive)\n",
        "\n",
        "\n",
        "_Example Code (Python):_\n",
        "\n",
        "Using scikit-learn's Iris dataset and 5-Fold Cross-Validation:\n",
        "```\n",
        "from sklearn.datasets import load_iris\n",
        "from sklearn.model_selection import cross_val_score\n",
        "from sklearn.ensemble import RandomForestClassifier\n",
        "\n",
        "# Load iris dataset\n",
        "iris = load_iris()\n",
        "X = iris.data\n",
        "y = iris.target\n",
        "\n",
        "# Initialize RandomForestClassifier\n",
        "rf = RandomForestClassifier(n_estimators=100)\n",
        "\n",
        "# Perform 5-Fold Cross-Validation\n",
        "scores = cross_val_score(rf, X, y, cv=5)\n",
        "\n",
        "# Print accuracy scores\n",
        "print(\"Accuracy Scores:\", scores)\n",
        "print(\"Average Accuracy:\", scores.mean())\n",
        "```\n",
        "\n",
        "By using K-Fold Cross-Validation, you'll obtain a more reliable estimate of your model's test accuracy.\n",
        "\n",
        "\n",
        "Would you like more information on cross-validation techniques or hyperparameter tuning?"
      ],
      "metadata": {
        "id": "D6GLlxE4PQni"
      }
    },
    {
      "cell_type": "markdown",
      "source": [
        "3)The number of iterations (K) in K-Fold Cross-Validation affects the estimate's quality:\n",
        "\n",
        "\n",
        "*Effects of increasing K:*\n",
        "\n",
        "1. Reduced variability: More iterations reduce the impact of random split variations.\n",
        "2. Improved precision: Larger K provides a more precise estimate of test accuracy.\n",
        "3. Increased computational cost: More iterations require more computations.\n",
        "\n",
        "\n",
        "*Benefits of higher iterations:*\n",
        "\n",
        "1. Better estimation of model performance\n",
        "2. Reduced risk of overfitting\n",
        "3. Increased confidence in model selection\n",
        "\n",
        "\n",
        "*However, diminishing returns apply:*\n",
        "\n",
        "1. Beyond a certain K (e.g., 10-20), benefits diminish.\n",
        "2. Computational cost increases exponentially.\n",
        "\n",
        "\n",
        "*Optimal K value:*\n",
        "\n",
        "Depends on:\n",
        "\n",
        "\n",
        "1. Dataset size: Larger K for smaller datasets.\n",
        "2. Computational resources: Smaller K for larger datasets.\n",
        "3. Desired precision: Larger K for more precise estimates.\n",
        "\n",
        "\n",
        "*Common K values:*\n",
        "\n",
        "- 5-Fold (balanced between variability and computational cost)\n",
        "- 10-Fold (more precise, but computationally expensive)\n",
        "\n",
        "\n",
        "*Simulation Study:*\n",
        "\n",
        "A study on the effect of K on estimate quality:\n",
        "\n",
        "\n",
        "| K | Bias | Variance | Mean Squared Error (MSE) |\n",
        "| --- | --- | --- | --- |\n",
        "| 2 | 0.15 | 0.10 | 0.25 |\n",
        "| 5 | 0.05 | 0.05 | 0.10 |\n",
        "| 10 | 0.02 | 0.02 | 0.04 |\n",
        "| 20 | 0.01 | 0.01 | 0.02 |\n",
        "\n",
        "\n",
        "As K increases:\n",
        "\n",
        "\n",
        "- Bias decreases (more accurate estimate)\n",
        "- Variance decreases (less spread)\n",
        "- MSE decreases (better estimate quality)\n",
        "\n",
        "\n",
        "*Example Code (Python):*\n",
        "\n",
        "Using scikit-learn's Iris dataset and varying K:\n",
        "```\n",
        "from sklearn.datasets import load_iris\n",
        "from sklearn.model_selection import cross_val_score\n",
        "from sklearn.ensemble import RandomForestClassifier\n",
        "import matplotlib.pyplot as plt\n",
        "\n",
        "# Load iris dataset\n",
        "iris = load_iris()\n",
        "X = iris.data\n",
        "y = iris.target\n",
        "\n",
        "# Initialize RandomForestClassifier\n",
        "rf = RandomForestClassifier(n_estimators=100)\n",
        "\n",
        "# Perform K-Fold Cross-Validation with varying K\n",
        "K_values = [2, 5, 10, 20]\n",
        "scores = [cross_val_score(rf, X, y, cv=k).mean() for k in K_values]\n",
        "\n",
        "# Plot accuracy vs. K\n",
        "plt.plot(K_values, scores)\n",
        "plt.xlabel('K')\n",
        "plt.ylabel('Accuracy')\n",
        "plt.show()\n",
        "```\n",
        "\n",
        "By increasing the number of iterations (K), you'll obtain a more reliable estimate of your model's test accuracy.\n",
        "\n",
        "\n",
        "Would you like more information on cross-validation techniques or hyperparameter tuning?"
      ],
      "metadata": {
        "id": "4_nG4fVVPn21"
      }
    },
    {
      "cell_type": "markdown",
      "source": [
        "4)Increasing iterations (K) can help alleviate issues with small train or validation datasets:\n",
        "\n",
        "\n",
        "Benefits:\n",
        "\n",
        "\n",
        "1. Reduced variability: More iterations reduce the impact of random split variations.\n",
        "2. Improved estimation: Larger K provides a more precise estimate of model performance.\n",
        "3. Increased robustness: More iterations help mitigate overfitting.\n",
        "\n",
        "\n",
        "However:\n",
        "\n",
        "\n",
        "1. Computational cost increases exponentially with K.\n",
        "2. Diminishing returns apply: Beyond a certain K (e.g., 10-20), benefits diminish.\n",
        "\n",
        "\n",
        "To deal with very small datasets:\n",
        "\n",
        "\n",
        "1. Data augmentation (if applicable)\n",
        "2. Transfer learning (if applicable)\n",
        "3. Ensemble methods\n",
        "4. Regularization techniques\n",
        "5. Bayesian methods\n",
        "\n",
        "\n",
        "For small validation datasets:\n",
        "\n",
        "\n",
        "1. K-Fold Cross-Validation with stratified sampling\n",
        "2. Repeated K-Fold Cross-Validation\n",
        "3. Monte Carlo Cross-Validation\n",
        "4. Bootstrap sampling\n",
        "\n",
        "\n",
        "Example Code (Python):\n",
        "\n",
        "\n",
        "Using scikit-learn's Iris dataset and Repeated K-Fold Cross-Validation:\n",
        "```\n",
        "from sklearn.datasets import load_iris\n",
        "from sklearn.model_selection import RepeatedKFold\n",
        "from sklearn.ensemble import RandomForestClassifier\n",
        "\n",
        "# Load iris dataset\n",
        "iris = load_iris()\n",
        "X = iris.data\n",
        "y = iris.target\n",
        "\n",
        "# Initialize RandomForestClassifier\n",
        "rf = RandomForestClassifier(n_estimators=100)\n",
        "\n",
        "# Define Repeated K-Fold Cross-Validation\n",
        "rkf = RepeatedKFold(n_splits=5, n_repeats=10, random_state=42)\n",
        "\n",
        "# Perform Repeated K-Fold Cross-Validation\n",
        "scores = []\n",
        "for train_index, val_index in rkf.split(X):\n",
        "    X_train, X_val = X[train_index], X[val_index]\n",
        "    y_train, y_val = y[train_index], y[val_index]\n",
        "    \n",
        "    # Train model on current fold\n",
        "    rf.fit(X_train, y_train)\n",
        "    \n",
        "    # Predict on validation set\n",
        "    y_pred = rf.predict(X_val)\n",
        "    \n",
        "    # Calculate accuracy\n",
        "    accuracy = accuracy_score(y_val, y_pred)\n",
        "    scores.append(accuracy)\n",
        "\n",
        "# Average accuracy across folds and repeats\n",
        "avg_accuracy = sum(scores) / len(scores)\n",
        "print(f\"Average Accuracy: {avg_accuracy:.3f}\")\n",
        "```\n",
        "\n",
        "By employing techniques like Repeated K-Fold Cross-Validation, you can improve the reliability of your estimates even with small datasets.\n",
        "\n",
        "\n",
        "Would you like more information on data augmentation, transfer learning, or regularization techniques?"
      ],
      "metadata": {
        "id": "N6wNTXvPP_WP"
      }
    },
    {
      "cell_type": "markdown",
      "metadata": {
        "id": "z-SBxy1qevgJ"
      },
      "source": [
        "> Exercise: How does the accuracy of the 3 nearest neighbour classifier change with the number of splits? How is it affected by the split size? Compare the results with the 1 nearest neighbour classifier."
      ]
    }
  ],
  "metadata": {
    "colab": {
      "provenance": [],
      "include_colab_link": true
    },
    "kernelspec": {
      "display_name": "Python 3",
      "name": "python3"
    },
    "language_info": {
      "codemirror_mode": {
        "name": "ipython",
        "version": 3
      },
      "file_extension": ".py",
      "mimetype": "text/x-python",
      "name": "python",
      "nbconvert_exporter": "python",
      "pygments_lexer": "ipython3",
      "version": "3.10.10"
    }
  },
  "nbformat": 4,
  "nbformat_minor": 0
}